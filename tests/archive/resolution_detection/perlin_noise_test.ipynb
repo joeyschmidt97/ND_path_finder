{
 "cells": [
  {
   "cell_type": "code",
   "execution_count": 14,
   "metadata": {},
   "outputs": [],
   "source": [
    "import ND_north_star.src.noise_generators.perlin_noise_generator as PNG\n",
    "from ND_north_star.src.samplers.sample_function import sample_coords_and_values\n"
   ]
  },
  {
   "cell_type": "code",
   "execution_count": 15,
   "metadata": {},
   "outputs": [
    {
     "ename": "AttributeError",
     "evalue": "module 'ND_north_star.src.noise_generators.perlin_noise_generator' has no attribute 'ND_perlin_noise_generator'",
     "output_type": "error",
     "traceback": [
      "\u001b[1;31m---------------------------------------------------------------------------\u001b[0m",
      "\u001b[1;31mAttributeError\u001b[0m                            Traceback (most recent call last)",
      "Cell \u001b[1;32mIn[15], line 4\u001b[0m\n\u001b[0;32m      1\u001b[0m resolution \u001b[38;5;241m=\u001b[39m \u001b[38;5;241m40\u001b[39m\n\u001b[0;32m      2\u001b[0m dimensions \u001b[38;5;241m=\u001b[39m [resolution, resolution]\n\u001b[1;32m----> 4\u001b[0m perlin_noise \u001b[38;5;241m=\u001b[39m \u001b[43mPNG\u001b[49m\u001b[38;5;241;43m.\u001b[39;49m\u001b[43mND_perlin_noise_generator\u001b[49m(dimensions, \u001b[38;5;241m4\u001b[39m, [\u001b[38;5;241m0\u001b[39m,\u001b[38;5;241m1\u001b[39m], [\u001b[38;5;241m0.5\u001b[39m, \u001b[38;5;241m0\u001b[39m, \u001b[38;5;241m1\u001b[39m])\n\u001b[0;32m      6\u001b[0m \u001b[38;5;66;03m# Check dimensions of 30x30 perlin noise grid\u001b[39;00m\n\u001b[0;32m      7\u001b[0m \u001b[38;5;28;01massert\u001b[39;00m(\u001b[38;5;28mlen\u001b[39m(perlin_noise) \u001b[38;5;241m==\u001b[39m resolution)\n",
      "\u001b[1;31mAttributeError\u001b[0m: module 'ND_north_star.src.noise_generators.perlin_noise_generator' has no attribute 'ND_perlin_noise_generator'"
     ]
    }
   ],
   "source": [
    "resolution = 40\n",
    "dimensions = [resolution, resolution]\n",
    "\n",
    "perlin_noise = PNG.ND_perlin_noise_generator(dimensions, 4, [0,1], [0.5, 0, 1])\n",
    "\n",
    "# Check dimensions of 30x30 perlin noise grid\n",
    "assert(len(perlin_noise) == resolution)\n",
    "for row in perlin_noise:\n",
    "    assert(len(row) == resolution)\n",
    "\n",
    "coord_array, values = PNG.perlin_M_to_coords(perlin_noise)\n",
    "\n",
    "# Check we have 2 dimensions for 30x30 grid\n",
    "assert(len(coord_array)==2)\n",
    "\n",
    "# Check that the lenght of the x and y arrays is 900 points or 30 x 30\n",
    "for coord in coord_array:\n",
    "    assert(len(coord)==resolution**len(dimensions))\n",
    "\n",
    "# Plot perlin noise coord in x and y coordinates and with intensity values surrounded by a black outline\n",
    "PNG.plot_perlin_2D_3D(coord_array, values, 'black')"
   ]
  },
  {
   "cell_type": "code",
   "execution_count": null,
   "metadata": {},
   "outputs": [],
   "source": []
  }
 ],
 "metadata": {
  "kernelspec": {
   "display_name": "jupyter_env",
   "language": "python",
   "name": "python3"
  },
  "language_info": {
   "codemirror_mode": {
    "name": "ipython",
    "version": 3
   },
   "file_extension": ".py",
   "mimetype": "text/x-python",
   "name": "python",
   "nbconvert_exporter": "python",
   "pygments_lexer": "ipython3",
   "version": "3.11.4"
  }
 },
 "nbformat": 4,
 "nbformat_minor": 2
}
